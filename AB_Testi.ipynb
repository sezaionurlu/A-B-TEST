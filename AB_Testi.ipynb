{
  "nbformat": 4,
  "nbformat_minor": 0,
  "metadata": {
    "colab": {
      "provenance": [],
      "collapsed_sections": [],
      "toc_visible": true,
      "mount_file_id": "1AYbIYV5OepeIh3Bx6yxQRm3I848b4xRR",
      "authorship_tag": "ABX9TyN+DyIfKs/62Ugig4DxV0NJ",
      "include_colab_link": true
    },
    "kernelspec": {
      "name": "python3",
      "display_name": "Python 3"
    },
    "language_info": {
      "name": "python"
    }
  },
  "cells": [
    {
      "cell_type": "markdown",
      "metadata": {
        "id": "view-in-github",
        "colab_type": "text"
      },
      "source": [
        "<a href=\"https://colab.research.google.com/github/sezaionurlu/AB-TEST/blob/main/AB_Testi.ipynb\" target=\"_parent\"><img src=\"https://colab.research.google.com/assets/colab-badge.svg\" alt=\"Open In Colab\"/></a>"
      ]
    },
    {
      "cell_type": "markdown",
      "source": [
        "AB Testi ile Bidding Yöntemlerinin\n",
        "Dönüşümünün Karşılaştırılması"
      ],
      "metadata": {
        "id": "fZpRAdjVQGhi"
      }
    },
    {
      "cell_type": "markdown",
      "source": [
        "**İş Problemi**\n",
        "\n",
        "Facebook kısa süre önce mevcut \"maximumbidding\" adı verilen\n",
        "teklif verme türüne alternatif olarak yeni bir teklif türü olan\n",
        "\"average bidding\"’i tanıttı.\n",
        "Müşterilerimizden biri olan bombabomba.com, bu yeni özelliği test\n",
        "etmeye karar verdi ve average bidding'inmaximumbidding'den\n",
        "daha fazla dönüşüm getirip getirmediğini anlamak için bir A/B\n",
        "testi yapmak istiyor.\n",
        "A/B testi 1 aydır devam ediyor ve bombabomba.com şimdi sizden\n",
        "bu A/B testinin sonuçlarını analiz etmenizi bekliyor.\n",
        "Bombabomba.com için nihai başarı ölçütü Purchase'dır. Bu\n",
        "nedenle, istatistiksel testler için Purchase metriğine\n",
        "odaklanılmalıdır."
      ],
      "metadata": {
        "id": "CXprgyMbQJeb"
      }
    },
    {
      "cell_type": "markdown",
      "source": [
        "**Veri Seti Hikayesi**\n",
        "\n",
        "Bir firmanın web site bilgilerini içeren bu veri setinde kullanıcıların gördükleri ve tıkladıkları reklam sayıları gibi bilgilerin yanı sıra\n",
        "buradan gelen kazanç bilgileri yer almaktadır. Kontrol ve Test grubu olmak üzere iki ayrı veri seti vardır. Bu veri setleri\n",
        "ab_testing.xlsx excel’inin ayrı sayfalarında yer almaktadır. Kontrol grubuna Maximum Bidding, test grubuna Average\n",
        "Bidding uygulanmıştır.\n",
        "\n",
        "![image.png](data:image/png;base64,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)"
      ],
      "metadata": {
        "id": "p5hbJxl4QOdE"
      }
    },
    {
      "cell_type": "markdown",
      "source": [
        "**Proje Görevleri**"
      ],
      "metadata": {
        "id": "oHsmAny9QYQP"
      }
    },
    {
      "cell_type": "code",
      "source": [
        "import itertools\n",
        "import numpy as np\n",
        "import pandas as pd\n",
        "import matplotlib.pyplot as plt\n",
        "import seaborn as sns\n",
        "!pip install statsmodels\n",
        "import statsmodels.stats.api as sms\n",
        "from scipy.stats import ttest_1samp, shapiro, levene, ttest_ind, mannwhitneyu, \\\n",
        "    pearsonr, spearmanr, kendalltau, f_oneway, kruskal\n",
        "from statsmodels.stats.proportion import proportions_ztest\n",
        "\n",
        "pd.set_option('display.max_columns', None)\n",
        "pd.set_option('display.max_rows', 10)\n",
        "pd.set_option('display.float_format', lambda x: '%.5f' % x)"
      ],
      "metadata": {
        "colab": {
          "base_uri": "https://localhost:8080/"
        },
        "id": "fIh1hDKYTmiA",
        "outputId": "9250436d-edb4-41a3-fbfc-c2cea6c6a62e"
      },
      "execution_count": null,
      "outputs": [
        {
          "output_type": "stream",
          "name": "stdout",
          "text": [
            "Looking in indexes: https://pypi.org/simple, https://us-python.pkg.dev/colab-wheels/public/simple/\n",
            "Requirement already satisfied: statsmodels in /usr/local/lib/python3.7/dist-packages (0.10.2)\n",
            "Requirement already satisfied: scipy>=0.18 in /usr/local/lib/python3.7/dist-packages (from statsmodels) (1.7.3)\n",
            "Requirement already satisfied: numpy>=1.11 in /usr/local/lib/python3.7/dist-packages (from statsmodels) (1.21.6)\n",
            "Requirement already satisfied: patsy>=0.4.0 in /usr/local/lib/python3.7/dist-packages (from statsmodels) (0.5.2)\n",
            "Requirement already satisfied: pandas>=0.19 in /usr/local/lib/python3.7/dist-packages (from statsmodels) (1.3.5)\n",
            "Requirement already satisfied: pytz>=2017.3 in /usr/local/lib/python3.7/dist-packages (from pandas>=0.19->statsmodels) (2022.1)\n",
            "Requirement already satisfied: python-dateutil>=2.7.3 in /usr/local/lib/python3.7/dist-packages (from pandas>=0.19->statsmodels) (2.8.2)\n",
            "Requirement already satisfied: six in /usr/local/lib/python3.7/dist-packages (from patsy>=0.4.0->statsmodels) (1.15.0)\n"
          ]
        },
        {
          "output_type": "stream",
          "name": "stderr",
          "text": [
            "/usr/local/lib/python3.7/dist-packages/statsmodels/tools/_testing.py:19: FutureWarning: pandas.util.testing is deprecated. Use the functions in the public API at pandas.testing instead.\n",
            "  import pandas.util.testing as tm\n"
          ]
        }
      ]
    },
    {
      "cell_type": "markdown",
      "source": [
        "*Görev 1: Veriyi Hazırlama ve Analiz Etme*"
      ],
      "metadata": {
        "id": "1JLoYewoQaP0"
      }
    },
    {
      "cell_type": "code",
      "source": [
        "# Adım 1: ab_testing_data.xlsx adlı kontrol ve test grubu verilerinden oluşan veri setini okutunuz. Kontrol ve test grubu verilerini ayrı değişkenlere atayınız."
      ],
      "metadata": {
        "id": "ijSmK9JnXMCA"
      },
      "execution_count": null,
      "outputs": []
    },
    {
      "cell_type": "code",
      "source": [
        "df_ = pd.read_excel('/content/drive/MyDrive/Veri Bilimi/Ödevler/4/ab_testing.xlsx',sheet_name='Control Group')"
      ],
      "metadata": {
        "id": "wMeIa_c3XMEC"
      },
      "execution_count": null,
      "outputs": []
    },
    {
      "cell_type": "code",
      "source": [
        "df_2 = pd.read_excel('/content/drive/MyDrive/Veri Bilimi/Ödevler/4/ab_testing.xlsx',sheet_name='Test Group')"
      ],
      "metadata": {
        "id": "D-VDVwkFTaDJ"
      },
      "execution_count": null,
      "outputs": []
    },
    {
      "cell_type": "code",
      "source": [
        "max_bid = df_.copy()"
      ],
      "metadata": {
        "id": "ExXa1XSnTtgO"
      },
      "execution_count": null,
      "outputs": []
    },
    {
      "cell_type": "code",
      "source": [
        "ave_bid = df_2.copy()"
      ],
      "metadata": {
        "id": "wSAgStH8TzZ0"
      },
      "execution_count": null,
      "outputs": []
    },
    {
      "cell_type": "code",
      "source": [
        "# Adım 2: Kontrol ve test grubu verilerini analiz ediniz."
      ],
      "metadata": {
        "id": "mZEnV-alXMGS"
      },
      "execution_count": null,
      "outputs": []
    },
    {
      "cell_type": "code",
      "source": [
        "max_bid.head()"
      ],
      "metadata": {
        "id": "DqJ4_x0yXMIg",
        "colab": {
          "base_uri": "https://localhost:8080/",
          "height": 206
        },
        "outputId": "b771fa23-e32d-4eae-e574-5a669c3414dc"
      },
      "execution_count": null,
      "outputs": [
        {
          "output_type": "execute_result",
          "data": {
            "text/plain": [
              "    Impression      Click  Purchase    Earning\n",
              "0  82529.45927 6090.07732 665.21125 2311.27714\n",
              "1  98050.45193 3382.86179 315.08489 1742.80686\n",
              "2  82696.02355 4167.96575 458.08374 1797.82745\n",
              "3 109914.40040 4910.88224 487.09077 1696.22918\n",
              "4 108457.76263 5987.65581 441.03405 1543.72018"
            ],
            "text/html": [
              "\n",
              "  <div id=\"df-6d01dae0-9dab-4816-a5c7-24fc7ead7703\">\n",
              "    <div class=\"colab-df-container\">\n",
              "      <div>\n",
              "<style scoped>\n",
              "    .dataframe tbody tr th:only-of-type {\n",
              "        vertical-align: middle;\n",
              "    }\n",
              "\n",
              "    .dataframe tbody tr th {\n",
              "        vertical-align: top;\n",
              "    }\n",
              "\n",
              "    .dataframe thead th {\n",
              "        text-align: right;\n",
              "    }\n",
              "</style>\n",
              "<table border=\"1\" class=\"dataframe\">\n",
              "  <thead>\n",
              "    <tr style=\"text-align: right;\">\n",
              "      <th></th>\n",
              "      <th>Impression</th>\n",
              "      <th>Click</th>\n",
              "      <th>Purchase</th>\n",
              "      <th>Earning</th>\n",
              "    </tr>\n",
              "  </thead>\n",
              "  <tbody>\n",
              "    <tr>\n",
              "      <th>0</th>\n",
              "      <td>82529.45927</td>\n",
              "      <td>6090.07732</td>\n",
              "      <td>665.21125</td>\n",
              "      <td>2311.27714</td>\n",
              "    </tr>\n",
              "    <tr>\n",
              "      <th>1</th>\n",
              "      <td>98050.45193</td>\n",
              "      <td>3382.86179</td>\n",
              "      <td>315.08489</td>\n",
              "      <td>1742.80686</td>\n",
              "    </tr>\n",
              "    <tr>\n",
              "      <th>2</th>\n",
              "      <td>82696.02355</td>\n",
              "      <td>4167.96575</td>\n",
              "      <td>458.08374</td>\n",
              "      <td>1797.82745</td>\n",
              "    </tr>\n",
              "    <tr>\n",
              "      <th>3</th>\n",
              "      <td>109914.40040</td>\n",
              "      <td>4910.88224</td>\n",
              "      <td>487.09077</td>\n",
              "      <td>1696.22918</td>\n",
              "    </tr>\n",
              "    <tr>\n",
              "      <th>4</th>\n",
              "      <td>108457.76263</td>\n",
              "      <td>5987.65581</td>\n",
              "      <td>441.03405</td>\n",
              "      <td>1543.72018</td>\n",
              "    </tr>\n",
              "  </tbody>\n",
              "</table>\n",
              "</div>\n",
              "      <button class=\"colab-df-convert\" onclick=\"convertToInteractive('df-6d01dae0-9dab-4816-a5c7-24fc7ead7703')\"\n",
              "              title=\"Convert this dataframe to an interactive table.\"\n",
              "              style=\"display:none;\">\n",
              "        \n",
              "  <svg xmlns=\"http://www.w3.org/2000/svg\" height=\"24px\"viewBox=\"0 0 24 24\"\n",
              "       width=\"24px\">\n",
              "    <path d=\"M0 0h24v24H0V0z\" fill=\"none\"/>\n",
              "    <path d=\"M18.56 5.44l.94 2.06.94-2.06 2.06-.94-2.06-.94-.94-2.06-.94 2.06-2.06.94zm-11 1L8.5 8.5l.94-2.06 2.06-.94-2.06-.94L8.5 2.5l-.94 2.06-2.06.94zm10 10l.94 2.06.94-2.06 2.06-.94-2.06-.94-.94-2.06-.94 2.06-2.06.94z\"/><path d=\"M17.41 7.96l-1.37-1.37c-.4-.4-.92-.59-1.43-.59-.52 0-1.04.2-1.43.59L10.3 9.45l-7.72 7.72c-.78.78-.78 2.05 0 2.83L4 21.41c.39.39.9.59 1.41.59.51 0 1.02-.2 1.41-.59l7.78-7.78 2.81-2.81c.8-.78.8-2.07 0-2.86zM5.41 20L4 18.59l7.72-7.72 1.47 1.35L5.41 20z\"/>\n",
              "  </svg>\n",
              "      </button>\n",
              "      \n",
              "  <style>\n",
              "    .colab-df-container {\n",
              "      display:flex;\n",
              "      flex-wrap:wrap;\n",
              "      gap: 12px;\n",
              "    }\n",
              "\n",
              "    .colab-df-convert {\n",
              "      background-color: #E8F0FE;\n",
              "      border: none;\n",
              "      border-radius: 50%;\n",
              "      cursor: pointer;\n",
              "      display: none;\n",
              "      fill: #1967D2;\n",
              "      height: 32px;\n",
              "      padding: 0 0 0 0;\n",
              "      width: 32px;\n",
              "    }\n",
              "\n",
              "    .colab-df-convert:hover {\n",
              "      background-color: #E2EBFA;\n",
              "      box-shadow: 0px 1px 2px rgba(60, 64, 67, 0.3), 0px 1px 3px 1px rgba(60, 64, 67, 0.15);\n",
              "      fill: #174EA6;\n",
              "    }\n",
              "\n",
              "    [theme=dark] .colab-df-convert {\n",
              "      background-color: #3B4455;\n",
              "      fill: #D2E3FC;\n",
              "    }\n",
              "\n",
              "    [theme=dark] .colab-df-convert:hover {\n",
              "      background-color: #434B5C;\n",
              "      box-shadow: 0px 1px 3px 1px rgba(0, 0, 0, 0.15);\n",
              "      filter: drop-shadow(0px 1px 2px rgba(0, 0, 0, 0.3));\n",
              "      fill: #FFFFFF;\n",
              "    }\n",
              "  </style>\n",
              "\n",
              "      <script>\n",
              "        const buttonEl =\n",
              "          document.querySelector('#df-6d01dae0-9dab-4816-a5c7-24fc7ead7703 button.colab-df-convert');\n",
              "        buttonEl.style.display =\n",
              "          google.colab.kernel.accessAllowed ? 'block' : 'none';\n",
              "\n",
              "        async function convertToInteractive(key) {\n",
              "          const element = document.querySelector('#df-6d01dae0-9dab-4816-a5c7-24fc7ead7703');\n",
              "          const dataTable =\n",
              "            await google.colab.kernel.invokeFunction('convertToInteractive',\n",
              "                                                     [key], {});\n",
              "          if (!dataTable) return;\n",
              "\n",
              "          const docLinkHtml = 'Like what you see? Visit the ' +\n",
              "            '<a target=\"_blank\" href=https://colab.research.google.com/notebooks/data_table.ipynb>data table notebook</a>'\n",
              "            + ' to learn more about interactive tables.';\n",
              "          element.innerHTML = '';\n",
              "          dataTable['output_type'] = 'display_data';\n",
              "          await google.colab.output.renderOutput(dataTable, element);\n",
              "          const docLink = document.createElement('div');\n",
              "          docLink.innerHTML = docLinkHtml;\n",
              "          element.appendChild(docLink);\n",
              "        }\n",
              "      </script>\n",
              "    </div>\n",
              "  </div>\n",
              "  "
            ]
          },
          "metadata": {},
          "execution_count": 7
        }
      ]
    },
    {
      "cell_type": "code",
      "source": [
        "max_bid.info()"
      ],
      "metadata": {
        "colab": {
          "base_uri": "https://localhost:8080/"
        },
        "id": "f1sTTgVQT9W8",
        "outputId": "5f842a56-d218-4faf-c242-00589384d885"
      },
      "execution_count": null,
      "outputs": [
        {
          "output_type": "stream",
          "name": "stdout",
          "text": [
            "<class 'pandas.core.frame.DataFrame'>\n",
            "RangeIndex: 40 entries, 0 to 39\n",
            "Data columns (total 4 columns):\n",
            " #   Column      Non-Null Count  Dtype  \n",
            "---  ------      --------------  -----  \n",
            " 0   Impression  40 non-null     float64\n",
            " 1   Click       40 non-null     float64\n",
            " 2   Purchase    40 non-null     float64\n",
            " 3   Earning     40 non-null     float64\n",
            "dtypes: float64(4)\n",
            "memory usage: 1.4 KB\n"
          ]
        }
      ]
    },
    {
      "cell_type": "code",
      "source": [
        "max_bid.describe().T"
      ],
      "metadata": {
        "colab": {
          "base_uri": "https://localhost:8080/",
          "height": 175
        },
        "id": "xZ3shiSxUA3J",
        "outputId": "7c3a3c44-1b04-4ac0-9610-ffb31e3ae41b"
      },
      "execution_count": null,
      "outputs": [
        {
          "output_type": "execute_result",
          "data": {
            "text/plain": [
              "              count         mean         std         min         25%  \\\n",
              "Impression 40.00000 101711.44907 20302.15786 45475.94296 85726.69035   \n",
              "Click      40.00000   5100.65737  1329.98550  2189.75316  4124.30413   \n",
              "Purchase   40.00000    550.89406   134.10820   267.02894   470.09553   \n",
              "Earning    40.00000   1908.56830   302.91778  1253.98952  1685.84720   \n",
              "\n",
              "                   50%          75%          max  \n",
              "Impression 99790.70108 115212.81654 147539.33633  \n",
              "Click       5001.22060   5923.80360   7959.12507  \n",
              "Purchase     531.20631    637.95709    801.79502  \n",
              "Earning     1975.16052   2119.80278   2497.29522  "
            ],
            "text/html": [
              "\n",
              "  <div id=\"df-200940a8-fbd6-4141-9212-1141c540aa92\">\n",
              "    <div class=\"colab-df-container\">\n",
              "      <div>\n",
              "<style scoped>\n",
              "    .dataframe tbody tr th:only-of-type {\n",
              "        vertical-align: middle;\n",
              "    }\n",
              "\n",
              "    .dataframe tbody tr th {\n",
              "        vertical-align: top;\n",
              "    }\n",
              "\n",
              "    .dataframe thead th {\n",
              "        text-align: right;\n",
              "    }\n",
              "</style>\n",
              "<table border=\"1\" class=\"dataframe\">\n",
              "  <thead>\n",
              "    <tr style=\"text-align: right;\">\n",
              "      <th></th>\n",
              "      <th>count</th>\n",
              "      <th>mean</th>\n",
              "      <th>std</th>\n",
              "      <th>min</th>\n",
              "      <th>25%</th>\n",
              "      <th>50%</th>\n",
              "      <th>75%</th>\n",
              "      <th>max</th>\n",
              "    </tr>\n",
              "  </thead>\n",
              "  <tbody>\n",
              "    <tr>\n",
              "      <th>Impression</th>\n",
              "      <td>40.00000</td>\n",
              "      <td>101711.44907</td>\n",
              "      <td>20302.15786</td>\n",
              "      <td>45475.94296</td>\n",
              "      <td>85726.69035</td>\n",
              "      <td>99790.70108</td>\n",
              "      <td>115212.81654</td>\n",
              "      <td>147539.33633</td>\n",
              "    </tr>\n",
              "    <tr>\n",
              "      <th>Click</th>\n",
              "      <td>40.00000</td>\n",
              "      <td>5100.65737</td>\n",
              "      <td>1329.98550</td>\n",
              "      <td>2189.75316</td>\n",
              "      <td>4124.30413</td>\n",
              "      <td>5001.22060</td>\n",
              "      <td>5923.80360</td>\n",
              "      <td>7959.12507</td>\n",
              "    </tr>\n",
              "    <tr>\n",
              "      <th>Purchase</th>\n",
              "      <td>40.00000</td>\n",
              "      <td>550.89406</td>\n",
              "      <td>134.10820</td>\n",
              "      <td>267.02894</td>\n",
              "      <td>470.09553</td>\n",
              "      <td>531.20631</td>\n",
              "      <td>637.95709</td>\n",
              "      <td>801.79502</td>\n",
              "    </tr>\n",
              "    <tr>\n",
              "      <th>Earning</th>\n",
              "      <td>40.00000</td>\n",
              "      <td>1908.56830</td>\n",
              "      <td>302.91778</td>\n",
              "      <td>1253.98952</td>\n",
              "      <td>1685.84720</td>\n",
              "      <td>1975.16052</td>\n",
              "      <td>2119.80278</td>\n",
              "      <td>2497.29522</td>\n",
              "    </tr>\n",
              "  </tbody>\n",
              "</table>\n",
              "</div>\n",
              "      <button class=\"colab-df-convert\" onclick=\"convertToInteractive('df-200940a8-fbd6-4141-9212-1141c540aa92')\"\n",
              "              title=\"Convert this dataframe to an interactive table.\"\n",
              "              style=\"display:none;\">\n",
              "        \n",
              "  <svg xmlns=\"http://www.w3.org/2000/svg\" height=\"24px\"viewBox=\"0 0 24 24\"\n",
              "       width=\"24px\">\n",
              "    <path d=\"M0 0h24v24H0V0z\" fill=\"none\"/>\n",
              "    <path d=\"M18.56 5.44l.94 2.06.94-2.06 2.06-.94-2.06-.94-.94-2.06-.94 2.06-2.06.94zm-11 1L8.5 8.5l.94-2.06 2.06-.94-2.06-.94L8.5 2.5l-.94 2.06-2.06.94zm10 10l.94 2.06.94-2.06 2.06-.94-2.06-.94-.94-2.06-.94 2.06-2.06.94z\"/><path d=\"M17.41 7.96l-1.37-1.37c-.4-.4-.92-.59-1.43-.59-.52 0-1.04.2-1.43.59L10.3 9.45l-7.72 7.72c-.78.78-.78 2.05 0 2.83L4 21.41c.39.39.9.59 1.41.59.51 0 1.02-.2 1.41-.59l7.78-7.78 2.81-2.81c.8-.78.8-2.07 0-2.86zM5.41 20L4 18.59l7.72-7.72 1.47 1.35L5.41 20z\"/>\n",
              "  </svg>\n",
              "      </button>\n",
              "      \n",
              "  <style>\n",
              "    .colab-df-container {\n",
              "      display:flex;\n",
              "      flex-wrap:wrap;\n",
              "      gap: 12px;\n",
              "    }\n",
              "\n",
              "    .colab-df-convert {\n",
              "      background-color: #E8F0FE;\n",
              "      border: none;\n",
              "      border-radius: 50%;\n",
              "      cursor: pointer;\n",
              "      display: none;\n",
              "      fill: #1967D2;\n",
              "      height: 32px;\n",
              "      padding: 0 0 0 0;\n",
              "      width: 32px;\n",
              "    }\n",
              "\n",
              "    .colab-df-convert:hover {\n",
              "      background-color: #E2EBFA;\n",
              "      box-shadow: 0px 1px 2px rgba(60, 64, 67, 0.3), 0px 1px 3px 1px rgba(60, 64, 67, 0.15);\n",
              "      fill: #174EA6;\n",
              "    }\n",
              "\n",
              "    [theme=dark] .colab-df-convert {\n",
              "      background-color: #3B4455;\n",
              "      fill: #D2E3FC;\n",
              "    }\n",
              "\n",
              "    [theme=dark] .colab-df-convert:hover {\n",
              "      background-color: #434B5C;\n",
              "      box-shadow: 0px 1px 3px 1px rgba(0, 0, 0, 0.15);\n",
              "      filter: drop-shadow(0px 1px 2px rgba(0, 0, 0, 0.3));\n",
              "      fill: #FFFFFF;\n",
              "    }\n",
              "  </style>\n",
              "\n",
              "      <script>\n",
              "        const buttonEl =\n",
              "          document.querySelector('#df-200940a8-fbd6-4141-9212-1141c540aa92 button.colab-df-convert');\n",
              "        buttonEl.style.display =\n",
              "          google.colab.kernel.accessAllowed ? 'block' : 'none';\n",
              "\n",
              "        async function convertToInteractive(key) {\n",
              "          const element = document.querySelector('#df-200940a8-fbd6-4141-9212-1141c540aa92');\n",
              "          const dataTable =\n",
              "            await google.colab.kernel.invokeFunction('convertToInteractive',\n",
              "                                                     [key], {});\n",
              "          if (!dataTable) return;\n",
              "\n",
              "          const docLinkHtml = 'Like what you see? Visit the ' +\n",
              "            '<a target=\"_blank\" href=https://colab.research.google.com/notebooks/data_table.ipynb>data table notebook</a>'\n",
              "            + ' to learn more about interactive tables.';\n",
              "          element.innerHTML = '';\n",
              "          dataTable['output_type'] = 'display_data';\n",
              "          await google.colab.output.renderOutput(dataTable, element);\n",
              "          const docLink = document.createElement('div');\n",
              "          docLink.innerHTML = docLinkHtml;\n",
              "          element.appendChild(docLink);\n",
              "        }\n",
              "      </script>\n",
              "    </div>\n",
              "  </div>\n",
              "  "
            ]
          },
          "metadata": {},
          "execution_count": 9
        }
      ]
    },
    {
      "cell_type": "code",
      "source": [
        "ave_bid.head()"
      ],
      "metadata": {
        "colab": {
          "base_uri": "https://localhost:8080/",
          "height": 206
        },
        "id": "8ytFfgYoUJrP",
        "outputId": "bc5e0ced-309e-402c-cb98-8e294341c636"
      },
      "execution_count": null,
      "outputs": [
        {
          "output_type": "execute_result",
          "data": {
            "text/plain": [
              "    Impression      Click  Purchase    Earning\n",
              "0 120103.50380 3216.54796 702.16035 1939.61124\n",
              "1 134775.94336 3635.08242 834.05429 2929.40582\n",
              "2 107806.62079 3057.14356 422.93426 2526.24488\n",
              "3 116445.27553 4650.47391 429.03353 2281.42857\n",
              "4 145082.51684 5201.38772 749.86044 2781.69752"
            ],
            "text/html": [
              "\n",
              "  <div id=\"df-4e529492-ba8b-46f4-b447-984d6c1931c9\">\n",
              "    <div class=\"colab-df-container\">\n",
              "      <div>\n",
              "<style scoped>\n",
              "    .dataframe tbody tr th:only-of-type {\n",
              "        vertical-align: middle;\n",
              "    }\n",
              "\n",
              "    .dataframe tbody tr th {\n",
              "        vertical-align: top;\n",
              "    }\n",
              "\n",
              "    .dataframe thead th {\n",
              "        text-align: right;\n",
              "    }\n",
              "</style>\n",
              "<table border=\"1\" class=\"dataframe\">\n",
              "  <thead>\n",
              "    <tr style=\"text-align: right;\">\n",
              "      <th></th>\n",
              "      <th>Impression</th>\n",
              "      <th>Click</th>\n",
              "      <th>Purchase</th>\n",
              "      <th>Earning</th>\n",
              "    </tr>\n",
              "  </thead>\n",
              "  <tbody>\n",
              "    <tr>\n",
              "      <th>0</th>\n",
              "      <td>120103.50380</td>\n",
              "      <td>3216.54796</td>\n",
              "      <td>702.16035</td>\n",
              "      <td>1939.61124</td>\n",
              "    </tr>\n",
              "    <tr>\n",
              "      <th>1</th>\n",
              "      <td>134775.94336</td>\n",
              "      <td>3635.08242</td>\n",
              "      <td>834.05429</td>\n",
              "      <td>2929.40582</td>\n",
              "    </tr>\n",
              "    <tr>\n",
              "      <th>2</th>\n",
              "      <td>107806.62079</td>\n",
              "      <td>3057.14356</td>\n",
              "      <td>422.93426</td>\n",
              "      <td>2526.24488</td>\n",
              "    </tr>\n",
              "    <tr>\n",
              "      <th>3</th>\n",
              "      <td>116445.27553</td>\n",
              "      <td>4650.47391</td>\n",
              "      <td>429.03353</td>\n",
              "      <td>2281.42857</td>\n",
              "    </tr>\n",
              "    <tr>\n",
              "      <th>4</th>\n",
              "      <td>145082.51684</td>\n",
              "      <td>5201.38772</td>\n",
              "      <td>749.86044</td>\n",
              "      <td>2781.69752</td>\n",
              "    </tr>\n",
              "  </tbody>\n",
              "</table>\n",
              "</div>\n",
              "      <button class=\"colab-df-convert\" onclick=\"convertToInteractive('df-4e529492-ba8b-46f4-b447-984d6c1931c9')\"\n",
              "              title=\"Convert this dataframe to an interactive table.\"\n",
              "              style=\"display:none;\">\n",
              "        \n",
              "  <svg xmlns=\"http://www.w3.org/2000/svg\" height=\"24px\"viewBox=\"0 0 24 24\"\n",
              "       width=\"24px\">\n",
              "    <path d=\"M0 0h24v24H0V0z\" fill=\"none\"/>\n",
              "    <path d=\"M18.56 5.44l.94 2.06.94-2.06 2.06-.94-2.06-.94-.94-2.06-.94 2.06-2.06.94zm-11 1L8.5 8.5l.94-2.06 2.06-.94-2.06-.94L8.5 2.5l-.94 2.06-2.06.94zm10 10l.94 2.06.94-2.06 2.06-.94-2.06-.94-.94-2.06-.94 2.06-2.06.94z\"/><path d=\"M17.41 7.96l-1.37-1.37c-.4-.4-.92-.59-1.43-.59-.52 0-1.04.2-1.43.59L10.3 9.45l-7.72 7.72c-.78.78-.78 2.05 0 2.83L4 21.41c.39.39.9.59 1.41.59.51 0 1.02-.2 1.41-.59l7.78-7.78 2.81-2.81c.8-.78.8-2.07 0-2.86zM5.41 20L4 18.59l7.72-7.72 1.47 1.35L5.41 20z\"/>\n",
              "  </svg>\n",
              "      </button>\n",
              "      \n",
              "  <style>\n",
              "    .colab-df-container {\n",
              "      display:flex;\n",
              "      flex-wrap:wrap;\n",
              "      gap: 12px;\n",
              "    }\n",
              "\n",
              "    .colab-df-convert {\n",
              "      background-color: #E8F0FE;\n",
              "      border: none;\n",
              "      border-radius: 50%;\n",
              "      cursor: pointer;\n",
              "      display: none;\n",
              "      fill: #1967D2;\n",
              "      height: 32px;\n",
              "      padding: 0 0 0 0;\n",
              "      width: 32px;\n",
              "    }\n",
              "\n",
              "    .colab-df-convert:hover {\n",
              "      background-color: #E2EBFA;\n",
              "      box-shadow: 0px 1px 2px rgba(60, 64, 67, 0.3), 0px 1px 3px 1px rgba(60, 64, 67, 0.15);\n",
              "      fill: #174EA6;\n",
              "    }\n",
              "\n",
              "    [theme=dark] .colab-df-convert {\n",
              "      background-color: #3B4455;\n",
              "      fill: #D2E3FC;\n",
              "    }\n",
              "\n",
              "    [theme=dark] .colab-df-convert:hover {\n",
              "      background-color: #434B5C;\n",
              "      box-shadow: 0px 1px 3px 1px rgba(0, 0, 0, 0.15);\n",
              "      filter: drop-shadow(0px 1px 2px rgba(0, 0, 0, 0.3));\n",
              "      fill: #FFFFFF;\n",
              "    }\n",
              "  </style>\n",
              "\n",
              "      <script>\n",
              "        const buttonEl =\n",
              "          document.querySelector('#df-4e529492-ba8b-46f4-b447-984d6c1931c9 button.colab-df-convert');\n",
              "        buttonEl.style.display =\n",
              "          google.colab.kernel.accessAllowed ? 'block' : 'none';\n",
              "\n",
              "        async function convertToInteractive(key) {\n",
              "          const element = document.querySelector('#df-4e529492-ba8b-46f4-b447-984d6c1931c9');\n",
              "          const dataTable =\n",
              "            await google.colab.kernel.invokeFunction('convertToInteractive',\n",
              "                                                     [key], {});\n",
              "          if (!dataTable) return;\n",
              "\n",
              "          const docLinkHtml = 'Like what you see? Visit the ' +\n",
              "            '<a target=\"_blank\" href=https://colab.research.google.com/notebooks/data_table.ipynb>data table notebook</a>'\n",
              "            + ' to learn more about interactive tables.';\n",
              "          element.innerHTML = '';\n",
              "          dataTable['output_type'] = 'display_data';\n",
              "          await google.colab.output.renderOutput(dataTable, element);\n",
              "          const docLink = document.createElement('div');\n",
              "          docLink.innerHTML = docLinkHtml;\n",
              "          element.appendChild(docLink);\n",
              "        }\n",
              "      </script>\n",
              "    </div>\n",
              "  </div>\n",
              "  "
            ]
          },
          "metadata": {},
          "execution_count": 10
        }
      ]
    },
    {
      "cell_type": "code",
      "source": [
        "ave_bid.info()"
      ],
      "metadata": {
        "colab": {
          "base_uri": "https://localhost:8080/"
        },
        "id": "3wX3DvKPUPvV",
        "outputId": "8ac4f4de-0431-4976-c34c-031ccb8ed6d4"
      },
      "execution_count": null,
      "outputs": [
        {
          "output_type": "stream",
          "name": "stdout",
          "text": [
            "<class 'pandas.core.frame.DataFrame'>\n",
            "RangeIndex: 40 entries, 0 to 39\n",
            "Data columns (total 4 columns):\n",
            " #   Column      Non-Null Count  Dtype  \n",
            "---  ------      --------------  -----  \n",
            " 0   Impression  40 non-null     float64\n",
            " 1   Click       40 non-null     float64\n",
            " 2   Purchase    40 non-null     float64\n",
            " 3   Earning     40 non-null     float64\n",
            "dtypes: float64(4)\n",
            "memory usage: 1.4 KB\n"
          ]
        }
      ]
    },
    {
      "cell_type": "code",
      "source": [
        "ave_bid.describe().T"
      ],
      "metadata": {
        "colab": {
          "base_uri": "https://localhost:8080/",
          "height": 175
        },
        "id": "fD6NbdKfURyd",
        "outputId": "d77bfc81-1210-429b-b63f-9483ead94c6a"
      },
      "execution_count": null,
      "outputs": [
        {
          "output_type": "execute_result",
          "data": {
            "text/plain": [
              "              count         mean         std         min          25%  \\\n",
              "Impression 40.00000 120512.41176 18807.44871 79033.83492 112691.97077   \n",
              "Click      40.00000   3967.54976   923.09507  1836.62986   3376.81902   \n",
              "Purchase   40.00000    582.10610   161.15251   311.62952    444.62683   \n",
              "Earning    40.00000   2514.89073   282.73085  1939.61124   2280.53743   \n",
              "\n",
              "                    50%          75%          max  \n",
              "Impression 119291.30077 132050.57893 158605.92048  \n",
              "Click        3931.35980   4660.49791   6019.69508  \n",
              "Purchase      551.35573    699.86236    889.91046  \n",
              "Earning      2544.66611   2761.54540   3171.48971  "
            ],
            "text/html": [
              "\n",
              "  <div id=\"df-a2d7558f-1b54-466c-9396-ebec87c8d0f7\">\n",
              "    <div class=\"colab-df-container\">\n",
              "      <div>\n",
              "<style scoped>\n",
              "    .dataframe tbody tr th:only-of-type {\n",
              "        vertical-align: middle;\n",
              "    }\n",
              "\n",
              "    .dataframe tbody tr th {\n",
              "        vertical-align: top;\n",
              "    }\n",
              "\n",
              "    .dataframe thead th {\n",
              "        text-align: right;\n",
              "    }\n",
              "</style>\n",
              "<table border=\"1\" class=\"dataframe\">\n",
              "  <thead>\n",
              "    <tr style=\"text-align: right;\">\n",
              "      <th></th>\n",
              "      <th>count</th>\n",
              "      <th>mean</th>\n",
              "      <th>std</th>\n",
              "      <th>min</th>\n",
              "      <th>25%</th>\n",
              "      <th>50%</th>\n",
              "      <th>75%</th>\n",
              "      <th>max</th>\n",
              "    </tr>\n",
              "  </thead>\n",
              "  <tbody>\n",
              "    <tr>\n",
              "      <th>Impression</th>\n",
              "      <td>40.00000</td>\n",
              "      <td>120512.41176</td>\n",
              "      <td>18807.44871</td>\n",
              "      <td>79033.83492</td>\n",
              "      <td>112691.97077</td>\n",
              "      <td>119291.30077</td>\n",
              "      <td>132050.57893</td>\n",
              "      <td>158605.92048</td>\n",
              "    </tr>\n",
              "    <tr>\n",
              "      <th>Click</th>\n",
              "      <td>40.00000</td>\n",
              "      <td>3967.54976</td>\n",
              "      <td>923.09507</td>\n",
              "      <td>1836.62986</td>\n",
              "      <td>3376.81902</td>\n",
              "      <td>3931.35980</td>\n",
              "      <td>4660.49791</td>\n",
              "      <td>6019.69508</td>\n",
              "    </tr>\n",
              "    <tr>\n",
              "      <th>Purchase</th>\n",
              "      <td>40.00000</td>\n",
              "      <td>582.10610</td>\n",
              "      <td>161.15251</td>\n",
              "      <td>311.62952</td>\n",
              "      <td>444.62683</td>\n",
              "      <td>551.35573</td>\n",
              "      <td>699.86236</td>\n",
              "      <td>889.91046</td>\n",
              "    </tr>\n",
              "    <tr>\n",
              "      <th>Earning</th>\n",
              "      <td>40.00000</td>\n",
              "      <td>2514.89073</td>\n",
              "      <td>282.73085</td>\n",
              "      <td>1939.61124</td>\n",
              "      <td>2280.53743</td>\n",
              "      <td>2544.66611</td>\n",
              "      <td>2761.54540</td>\n",
              "      <td>3171.48971</td>\n",
              "    </tr>\n",
              "  </tbody>\n",
              "</table>\n",
              "</div>\n",
              "      <button class=\"colab-df-convert\" onclick=\"convertToInteractive('df-a2d7558f-1b54-466c-9396-ebec87c8d0f7')\"\n",
              "              title=\"Convert this dataframe to an interactive table.\"\n",
              "              style=\"display:none;\">\n",
              "        \n",
              "  <svg xmlns=\"http://www.w3.org/2000/svg\" height=\"24px\"viewBox=\"0 0 24 24\"\n",
              "       width=\"24px\">\n",
              "    <path d=\"M0 0h24v24H0V0z\" fill=\"none\"/>\n",
              "    <path d=\"M18.56 5.44l.94 2.06.94-2.06 2.06-.94-2.06-.94-.94-2.06-.94 2.06-2.06.94zm-11 1L8.5 8.5l.94-2.06 2.06-.94-2.06-.94L8.5 2.5l-.94 2.06-2.06.94zm10 10l.94 2.06.94-2.06 2.06-.94-2.06-.94-.94-2.06-.94 2.06-2.06.94z\"/><path d=\"M17.41 7.96l-1.37-1.37c-.4-.4-.92-.59-1.43-.59-.52 0-1.04.2-1.43.59L10.3 9.45l-7.72 7.72c-.78.78-.78 2.05 0 2.83L4 21.41c.39.39.9.59 1.41.59.51 0 1.02-.2 1.41-.59l7.78-7.78 2.81-2.81c.8-.78.8-2.07 0-2.86zM5.41 20L4 18.59l7.72-7.72 1.47 1.35L5.41 20z\"/>\n",
              "  </svg>\n",
              "      </button>\n",
              "      \n",
              "  <style>\n",
              "    .colab-df-container {\n",
              "      display:flex;\n",
              "      flex-wrap:wrap;\n",
              "      gap: 12px;\n",
              "    }\n",
              "\n",
              "    .colab-df-convert {\n",
              "      background-color: #E8F0FE;\n",
              "      border: none;\n",
              "      border-radius: 50%;\n",
              "      cursor: pointer;\n",
              "      display: none;\n",
              "      fill: #1967D2;\n",
              "      height: 32px;\n",
              "      padding: 0 0 0 0;\n",
              "      width: 32px;\n",
              "    }\n",
              "\n",
              "    .colab-df-convert:hover {\n",
              "      background-color: #E2EBFA;\n",
              "      box-shadow: 0px 1px 2px rgba(60, 64, 67, 0.3), 0px 1px 3px 1px rgba(60, 64, 67, 0.15);\n",
              "      fill: #174EA6;\n",
              "    }\n",
              "\n",
              "    [theme=dark] .colab-df-convert {\n",
              "      background-color: #3B4455;\n",
              "      fill: #D2E3FC;\n",
              "    }\n",
              "\n",
              "    [theme=dark] .colab-df-convert:hover {\n",
              "      background-color: #434B5C;\n",
              "      box-shadow: 0px 1px 3px 1px rgba(0, 0, 0, 0.15);\n",
              "      filter: drop-shadow(0px 1px 2px rgba(0, 0, 0, 0.3));\n",
              "      fill: #FFFFFF;\n",
              "    }\n",
              "  </style>\n",
              "\n",
              "      <script>\n",
              "        const buttonEl =\n",
              "          document.querySelector('#df-a2d7558f-1b54-466c-9396-ebec87c8d0f7 button.colab-df-convert');\n",
              "        buttonEl.style.display =\n",
              "          google.colab.kernel.accessAllowed ? 'block' : 'none';\n",
              "\n",
              "        async function convertToInteractive(key) {\n",
              "          const element = document.querySelector('#df-a2d7558f-1b54-466c-9396-ebec87c8d0f7');\n",
              "          const dataTable =\n",
              "            await google.colab.kernel.invokeFunction('convertToInteractive',\n",
              "                                                     [key], {});\n",
              "          if (!dataTable) return;\n",
              "\n",
              "          const docLinkHtml = 'Like what you see? Visit the ' +\n",
              "            '<a target=\"_blank\" href=https://colab.research.google.com/notebooks/data_table.ipynb>data table notebook</a>'\n",
              "            + ' to learn more about interactive tables.';\n",
              "          element.innerHTML = '';\n",
              "          dataTable['output_type'] = 'display_data';\n",
              "          await google.colab.output.renderOutput(dataTable, element);\n",
              "          const docLink = document.createElement('div');\n",
              "          docLink.innerHTML = docLinkHtml;\n",
              "          element.appendChild(docLink);\n",
              "        }\n",
              "      </script>\n",
              "    </div>\n",
              "  </div>\n",
              "  "
            ]
          },
          "metadata": {},
          "execution_count": 12
        }
      ]
    },
    {
      "cell_type": "code",
      "source": [
        "# Adım 3: Analiz işleminden sonra concat metodunu kullanarak kontrol ve test grubu verilerini birleştiriniz."
      ],
      "metadata": {
        "id": "LgBcHE_sXMTg"
      },
      "execution_count": null,
      "outputs": []
    },
    {
      "cell_type": "code",
      "source": [
        "?pd.concat"
      ],
      "metadata": {
        "id": "yT090ffdXMVc"
      },
      "execution_count": null,
      "outputs": []
    },
    {
      "cell_type": "code",
      "source": [
        "df = pd.concat([max_bid, ave_bid], axis=1)"
      ],
      "metadata": {
        "id": "Anm767kbVNu4"
      },
      "execution_count": null,
      "outputs": []
    },
    {
      "cell_type": "code",
      "source": [
        "df.head()"
      ],
      "metadata": {
        "colab": {
          "base_uri": "https://localhost:8080/",
          "height": 206
        },
        "id": "eihs7JDwV_Cs",
        "outputId": "60c7d8eb-6967-4994-c67c-76ea1f6fb21b"
      },
      "execution_count": null,
      "outputs": [
        {
          "output_type": "execute_result",
          "data": {
            "text/plain": [
              "    Impression      Click  Purchase    Earning   Impression      Click  \\\n",
              "0  82529.45927 6090.07732 665.21125 2311.27714 120103.50380 3216.54796   \n",
              "1  98050.45193 3382.86179 315.08489 1742.80686 134775.94336 3635.08242   \n",
              "2  82696.02355 4167.96575 458.08374 1797.82745 107806.62079 3057.14356   \n",
              "3 109914.40040 4910.88224 487.09077 1696.22918 116445.27553 4650.47391   \n",
              "4 108457.76263 5987.65581 441.03405 1543.72018 145082.51684 5201.38772   \n",
              "\n",
              "   Purchase    Earning  \n",
              "0 702.16035 1939.61124  \n",
              "1 834.05429 2929.40582  \n",
              "2 422.93426 2526.24488  \n",
              "3 429.03353 2281.42857  \n",
              "4 749.86044 2781.69752  "
            ],
            "text/html": [
              "\n",
              "  <div id=\"df-b58c55c3-912f-4c16-a71a-5f66cb452085\">\n",
              "    <div class=\"colab-df-container\">\n",
              "      <div>\n",
              "<style scoped>\n",
              "    .dataframe tbody tr th:only-of-type {\n",
              "        vertical-align: middle;\n",
              "    }\n",
              "\n",
              "    .dataframe tbody tr th {\n",
              "        vertical-align: top;\n",
              "    }\n",
              "\n",
              "    .dataframe thead th {\n",
              "        text-align: right;\n",
              "    }\n",
              "</style>\n",
              "<table border=\"1\" class=\"dataframe\">\n",
              "  <thead>\n",
              "    <tr style=\"text-align: right;\">\n",
              "      <th></th>\n",
              "      <th>Impression</th>\n",
              "      <th>Click</th>\n",
              "      <th>Purchase</th>\n",
              "      <th>Earning</th>\n",
              "      <th>Impression</th>\n",
              "      <th>Click</th>\n",
              "      <th>Purchase</th>\n",
              "      <th>Earning</th>\n",
              "    </tr>\n",
              "  </thead>\n",
              "  <tbody>\n",
              "    <tr>\n",
              "      <th>0</th>\n",
              "      <td>82529.45927</td>\n",
              "      <td>6090.07732</td>\n",
              "      <td>665.21125</td>\n",
              "      <td>2311.27714</td>\n",
              "      <td>120103.50380</td>\n",
              "      <td>3216.54796</td>\n",
              "      <td>702.16035</td>\n",
              "      <td>1939.61124</td>\n",
              "    </tr>\n",
              "    <tr>\n",
              "      <th>1</th>\n",
              "      <td>98050.45193</td>\n",
              "      <td>3382.86179</td>\n",
              "      <td>315.08489</td>\n",
              "      <td>1742.80686</td>\n",
              "      <td>134775.94336</td>\n",
              "      <td>3635.08242</td>\n",
              "      <td>834.05429</td>\n",
              "      <td>2929.40582</td>\n",
              "    </tr>\n",
              "    <tr>\n",
              "      <th>2</th>\n",
              "      <td>82696.02355</td>\n",
              "      <td>4167.96575</td>\n",
              "      <td>458.08374</td>\n",
              "      <td>1797.82745</td>\n",
              "      <td>107806.62079</td>\n",
              "      <td>3057.14356</td>\n",
              "      <td>422.93426</td>\n",
              "      <td>2526.24488</td>\n",
              "    </tr>\n",
              "    <tr>\n",
              "      <th>3</th>\n",
              "      <td>109914.40040</td>\n",
              "      <td>4910.88224</td>\n",
              "      <td>487.09077</td>\n",
              "      <td>1696.22918</td>\n",
              "      <td>116445.27553</td>\n",
              "      <td>4650.47391</td>\n",
              "      <td>429.03353</td>\n",
              "      <td>2281.42857</td>\n",
              "    </tr>\n",
              "    <tr>\n",
              "      <th>4</th>\n",
              "      <td>108457.76263</td>\n",
              "      <td>5987.65581</td>\n",
              "      <td>441.03405</td>\n",
              "      <td>1543.72018</td>\n",
              "      <td>145082.51684</td>\n",
              "      <td>5201.38772</td>\n",
              "      <td>749.86044</td>\n",
              "      <td>2781.69752</td>\n",
              "    </tr>\n",
              "  </tbody>\n",
              "</table>\n",
              "</div>\n",
              "      <button class=\"colab-df-convert\" onclick=\"convertToInteractive('df-b58c55c3-912f-4c16-a71a-5f66cb452085')\"\n",
              "              title=\"Convert this dataframe to an interactive table.\"\n",
              "              style=\"display:none;\">\n",
              "        \n",
              "  <svg xmlns=\"http://www.w3.org/2000/svg\" height=\"24px\"viewBox=\"0 0 24 24\"\n",
              "       width=\"24px\">\n",
              "    <path d=\"M0 0h24v24H0V0z\" fill=\"none\"/>\n",
              "    <path d=\"M18.56 5.44l.94 2.06.94-2.06 2.06-.94-2.06-.94-.94-2.06-.94 2.06-2.06.94zm-11 1L8.5 8.5l.94-2.06 2.06-.94-2.06-.94L8.5 2.5l-.94 2.06-2.06.94zm10 10l.94 2.06.94-2.06 2.06-.94-2.06-.94-.94-2.06-.94 2.06-2.06.94z\"/><path d=\"M17.41 7.96l-1.37-1.37c-.4-.4-.92-.59-1.43-.59-.52 0-1.04.2-1.43.59L10.3 9.45l-7.72 7.72c-.78.78-.78 2.05 0 2.83L4 21.41c.39.39.9.59 1.41.59.51 0 1.02-.2 1.41-.59l7.78-7.78 2.81-2.81c.8-.78.8-2.07 0-2.86zM5.41 20L4 18.59l7.72-7.72 1.47 1.35L5.41 20z\"/>\n",
              "  </svg>\n",
              "      </button>\n",
              "      \n",
              "  <style>\n",
              "    .colab-df-container {\n",
              "      display:flex;\n",
              "      flex-wrap:wrap;\n",
              "      gap: 12px;\n",
              "    }\n",
              "\n",
              "    .colab-df-convert {\n",
              "      background-color: #E8F0FE;\n",
              "      border: none;\n",
              "      border-radius: 50%;\n",
              "      cursor: pointer;\n",
              "      display: none;\n",
              "      fill: #1967D2;\n",
              "      height: 32px;\n",
              "      padding: 0 0 0 0;\n",
              "      width: 32px;\n",
              "    }\n",
              "\n",
              "    .colab-df-convert:hover {\n",
              "      background-color: #E2EBFA;\n",
              "      box-shadow: 0px 1px 2px rgba(60, 64, 67, 0.3), 0px 1px 3px 1px rgba(60, 64, 67, 0.15);\n",
              "      fill: #174EA6;\n",
              "    }\n",
              "\n",
              "    [theme=dark] .colab-df-convert {\n",
              "      background-color: #3B4455;\n",
              "      fill: #D2E3FC;\n",
              "    }\n",
              "\n",
              "    [theme=dark] .colab-df-convert:hover {\n",
              "      background-color: #434B5C;\n",
              "      box-shadow: 0px 1px 3px 1px rgba(0, 0, 0, 0.15);\n",
              "      filter: drop-shadow(0px 1px 2px rgba(0, 0, 0, 0.3));\n",
              "      fill: #FFFFFF;\n",
              "    }\n",
              "  </style>\n",
              "\n",
              "      <script>\n",
              "        const buttonEl =\n",
              "          document.querySelector('#df-b58c55c3-912f-4c16-a71a-5f66cb452085 button.colab-df-convert');\n",
              "        buttonEl.style.display =\n",
              "          google.colab.kernel.accessAllowed ? 'block' : 'none';\n",
              "\n",
              "        async function convertToInteractive(key) {\n",
              "          const element = document.querySelector('#df-b58c55c3-912f-4c16-a71a-5f66cb452085');\n",
              "          const dataTable =\n",
              "            await google.colab.kernel.invokeFunction('convertToInteractive',\n",
              "                                                     [key], {});\n",
              "          if (!dataTable) return;\n",
              "\n",
              "          const docLinkHtml = 'Like what you see? Visit the ' +\n",
              "            '<a target=\"_blank\" href=https://colab.research.google.com/notebooks/data_table.ipynb>data table notebook</a>'\n",
              "            + ' to learn more about interactive tables.';\n",
              "          element.innerHTML = '';\n",
              "          dataTable['output_type'] = 'display_data';\n",
              "          await google.colab.output.renderOutput(dataTable, element);\n",
              "          const docLink = document.createElement('div');\n",
              "          docLink.innerHTML = docLinkHtml;\n",
              "          element.appendChild(docLink);\n",
              "        }\n",
              "      </script>\n",
              "    </div>\n",
              "  </div>\n",
              "  "
            ]
          },
          "metadata": {},
          "execution_count": 16
        }
      ]
    },
    {
      "cell_type": "code",
      "source": [
        "df.columns.values[[4, 5, 6, 7]] = ['Impression_2', 'Click_2', 'Purchase_2', 'Earning_2']"
      ],
      "metadata": {
        "id": "sAswtTjjYJTl"
      },
      "execution_count": null,
      "outputs": []
    },
    {
      "cell_type": "code",
      "source": [
        "df.head()"
      ],
      "metadata": {
        "colab": {
          "base_uri": "https://localhost:8080/",
          "height": 206
        },
        "id": "yK87_csPXYZR",
        "outputId": "6338f251-eb10-4e76-ccb7-352df4092560"
      },
      "execution_count": null,
      "outputs": [
        {
          "output_type": "execute_result",
          "data": {
            "text/plain": [
              "    Impression      Click  Purchase    Earning  Impression_2    Click_2  \\\n",
              "0  82529.45927 6090.07732 665.21125 2311.27714  120103.50380 3216.54796   \n",
              "1  98050.45193 3382.86179 315.08489 1742.80686  134775.94336 3635.08242   \n",
              "2  82696.02355 4167.96575 458.08374 1797.82745  107806.62079 3057.14356   \n",
              "3 109914.40040 4910.88224 487.09077 1696.22918  116445.27553 4650.47391   \n",
              "4 108457.76263 5987.65581 441.03405 1543.72018  145082.51684 5201.38772   \n",
              "\n",
              "   Purchase_2  Earning_2  \n",
              "0   702.16035 1939.61124  \n",
              "1   834.05429 2929.40582  \n",
              "2   422.93426 2526.24488  \n",
              "3   429.03353 2281.42857  \n",
              "4   749.86044 2781.69752  "
            ],
            "text/html": [
              "\n",
              "  <div id=\"df-eb1c26ac-8508-4acf-90ab-07b045b40cc0\">\n",
              "    <div class=\"colab-df-container\">\n",
              "      <div>\n",
              "<style scoped>\n",
              "    .dataframe tbody tr th:only-of-type {\n",
              "        vertical-align: middle;\n",
              "    }\n",
              "\n",
              "    .dataframe tbody tr th {\n",
              "        vertical-align: top;\n",
              "    }\n",
              "\n",
              "    .dataframe thead th {\n",
              "        text-align: right;\n",
              "    }\n",
              "</style>\n",
              "<table border=\"1\" class=\"dataframe\">\n",
              "  <thead>\n",
              "    <tr style=\"text-align: right;\">\n",
              "      <th></th>\n",
              "      <th>Impression</th>\n",
              "      <th>Click</th>\n",
              "      <th>Purchase</th>\n",
              "      <th>Earning</th>\n",
              "      <th>Impression_2</th>\n",
              "      <th>Click_2</th>\n",
              "      <th>Purchase_2</th>\n",
              "      <th>Earning_2</th>\n",
              "    </tr>\n",
              "  </thead>\n",
              "  <tbody>\n",
              "    <tr>\n",
              "      <th>0</th>\n",
              "      <td>82529.45927</td>\n",
              "      <td>6090.07732</td>\n",
              "      <td>665.21125</td>\n",
              "      <td>2311.27714</td>\n",
              "      <td>120103.50380</td>\n",
              "      <td>3216.54796</td>\n",
              "      <td>702.16035</td>\n",
              "      <td>1939.61124</td>\n",
              "    </tr>\n",
              "    <tr>\n",
              "      <th>1</th>\n",
              "      <td>98050.45193</td>\n",
              "      <td>3382.86179</td>\n",
              "      <td>315.08489</td>\n",
              "      <td>1742.80686</td>\n",
              "      <td>134775.94336</td>\n",
              "      <td>3635.08242</td>\n",
              "      <td>834.05429</td>\n",
              "      <td>2929.40582</td>\n",
              "    </tr>\n",
              "    <tr>\n",
              "      <th>2</th>\n",
              "      <td>82696.02355</td>\n",
              "      <td>4167.96575</td>\n",
              "      <td>458.08374</td>\n",
              "      <td>1797.82745</td>\n",
              "      <td>107806.62079</td>\n",
              "      <td>3057.14356</td>\n",
              "      <td>422.93426</td>\n",
              "      <td>2526.24488</td>\n",
              "    </tr>\n",
              "    <tr>\n",
              "      <th>3</th>\n",
              "      <td>109914.40040</td>\n",
              "      <td>4910.88224</td>\n",
              "      <td>487.09077</td>\n",
              "      <td>1696.22918</td>\n",
              "      <td>116445.27553</td>\n",
              "      <td>4650.47391</td>\n",
              "      <td>429.03353</td>\n",
              "      <td>2281.42857</td>\n",
              "    </tr>\n",
              "    <tr>\n",
              "      <th>4</th>\n",
              "      <td>108457.76263</td>\n",
              "      <td>5987.65581</td>\n",
              "      <td>441.03405</td>\n",
              "      <td>1543.72018</td>\n",
              "      <td>145082.51684</td>\n",
              "      <td>5201.38772</td>\n",
              "      <td>749.86044</td>\n",
              "      <td>2781.69752</td>\n",
              "    </tr>\n",
              "  </tbody>\n",
              "</table>\n",
              "</div>\n",
              "      <button class=\"colab-df-convert\" onclick=\"convertToInteractive('df-eb1c26ac-8508-4acf-90ab-07b045b40cc0')\"\n",
              "              title=\"Convert this dataframe to an interactive table.\"\n",
              "              style=\"display:none;\">\n",
              "        \n",
              "  <svg xmlns=\"http://www.w3.org/2000/svg\" height=\"24px\"viewBox=\"0 0 24 24\"\n",
              "       width=\"24px\">\n",
              "    <path d=\"M0 0h24v24H0V0z\" fill=\"none\"/>\n",
              "    <path d=\"M18.56 5.44l.94 2.06.94-2.06 2.06-.94-2.06-.94-.94-2.06-.94 2.06-2.06.94zm-11 1L8.5 8.5l.94-2.06 2.06-.94-2.06-.94L8.5 2.5l-.94 2.06-2.06.94zm10 10l.94 2.06.94-2.06 2.06-.94-2.06-.94-.94-2.06-.94 2.06-2.06.94z\"/><path d=\"M17.41 7.96l-1.37-1.37c-.4-.4-.92-.59-1.43-.59-.52 0-1.04.2-1.43.59L10.3 9.45l-7.72 7.72c-.78.78-.78 2.05 0 2.83L4 21.41c.39.39.9.59 1.41.59.51 0 1.02-.2 1.41-.59l7.78-7.78 2.81-2.81c.8-.78.8-2.07 0-2.86zM5.41 20L4 18.59l7.72-7.72 1.47 1.35L5.41 20z\"/>\n",
              "  </svg>\n",
              "      </button>\n",
              "      \n",
              "  <style>\n",
              "    .colab-df-container {\n",
              "      display:flex;\n",
              "      flex-wrap:wrap;\n",
              "      gap: 12px;\n",
              "    }\n",
              "\n",
              "    .colab-df-convert {\n",
              "      background-color: #E8F0FE;\n",
              "      border: none;\n",
              "      border-radius: 50%;\n",
              "      cursor: pointer;\n",
              "      display: none;\n",
              "      fill: #1967D2;\n",
              "      height: 32px;\n",
              "      padding: 0 0 0 0;\n",
              "      width: 32px;\n",
              "    }\n",
              "\n",
              "    .colab-df-convert:hover {\n",
              "      background-color: #E2EBFA;\n",
              "      box-shadow: 0px 1px 2px rgba(60, 64, 67, 0.3), 0px 1px 3px 1px rgba(60, 64, 67, 0.15);\n",
              "      fill: #174EA6;\n",
              "    }\n",
              "\n",
              "    [theme=dark] .colab-df-convert {\n",
              "      background-color: #3B4455;\n",
              "      fill: #D2E3FC;\n",
              "    }\n",
              "\n",
              "    [theme=dark] .colab-df-convert:hover {\n",
              "      background-color: #434B5C;\n",
              "      box-shadow: 0px 1px 3px 1px rgba(0, 0, 0, 0.15);\n",
              "      filter: drop-shadow(0px 1px 2px rgba(0, 0, 0, 0.3));\n",
              "      fill: #FFFFFF;\n",
              "    }\n",
              "  </style>\n",
              "\n",
              "      <script>\n",
              "        const buttonEl =\n",
              "          document.querySelector('#df-eb1c26ac-8508-4acf-90ab-07b045b40cc0 button.colab-df-convert');\n",
              "        buttonEl.style.display =\n",
              "          google.colab.kernel.accessAllowed ? 'block' : 'none';\n",
              "\n",
              "        async function convertToInteractive(key) {\n",
              "          const element = document.querySelector('#df-eb1c26ac-8508-4acf-90ab-07b045b40cc0');\n",
              "          const dataTable =\n",
              "            await google.colab.kernel.invokeFunction('convertToInteractive',\n",
              "                                                     [key], {});\n",
              "          if (!dataTable) return;\n",
              "\n",
              "          const docLinkHtml = 'Like what you see? Visit the ' +\n",
              "            '<a target=\"_blank\" href=https://colab.research.google.com/notebooks/data_table.ipynb>data table notebook</a>'\n",
              "            + ' to learn more about interactive tables.';\n",
              "          element.innerHTML = '';\n",
              "          dataTable['output_type'] = 'display_data';\n",
              "          await google.colab.output.renderOutput(dataTable, element);\n",
              "          const docLink = document.createElement('div');\n",
              "          docLink.innerHTML = docLinkHtml;\n",
              "          element.appendChild(docLink);\n",
              "        }\n",
              "      </script>\n",
              "    </div>\n",
              "  </div>\n",
              "  "
            ]
          },
          "metadata": {},
          "execution_count": 39
        }
      ]
    },
    {
      "cell_type": "markdown",
      "source": [
        "*Görev 2: A/B Testinin Hipotezinin Tanımlanması*"
      ],
      "metadata": {
        "id": "ZEdsQXRTQk3Y"
      }
    },
    {
      "cell_type": "code",
      "source": [
        "# Adım 1: Hipotezi tanımlayınız.\n",
        "# H0 : M1 = M2\n",
        "# H1 : M1!= M2"
      ],
      "metadata": {
        "id": "i-poQC9XXMXQ"
      },
      "execution_count": null,
      "outputs": []
    },
    {
      "cell_type": "code",
      "source": [
        "# H0 : Kontrol ve Test gruplarının kazanç ortalamalarında anlamlı bir fark yoktur."
      ],
      "metadata": {
        "id": "Q9g4IyzeYhJt"
      },
      "execution_count": null,
      "outputs": []
    },
    {
      "cell_type": "code",
      "source": [
        "# Adım 2: Kontrol ve test grubu için purchase (kazanç) ortalamalarını analiz ediniz."
      ],
      "metadata": {
        "id": "cPqLeRBlQrq5"
      },
      "execution_count": null,
      "outputs": []
    },
    {
      "cell_type": "code",
      "source": [
        "df[['Purchase', 'Purchase_2']].mean()"
      ],
      "metadata": {
        "colab": {
          "base_uri": "https://localhost:8080/"
        },
        "id": "LMlsCNf6QrvA",
        "outputId": "a4c50290-3704-4cd6-cfd4-25006545a241"
      },
      "execution_count": null,
      "outputs": [
        {
          "output_type": "execute_result",
          "data": {
            "text/plain": [
              "Purchase     550.89406\n",
              "Purchase_2   582.10610\n",
              "dtype: float64"
            ]
          },
          "metadata": {},
          "execution_count": 43
        }
      ]
    },
    {
      "cell_type": "markdown",
      "source": [
        "*Görev 3: Hipotez Testinin Gerçekleştirilmesi*"
      ],
      "metadata": {
        "id": "3gYFwalSQvTR"
      }
    },
    {
      "cell_type": "code",
      "source": [
        "# Adım 1: Hipotez testi yapılmadan önce varsayım kontrollerini yapınız.\n",
        "# Bunlar Normallik Varsayımı ve Varyans Homojenliğidir. Kontrol ve test grubunun normallik varsayımına uyup uymadığını Purchase değişkeni üzerinden ayrı ayrı test ediniz.\n",
        "\n",
        "# Normallik Varsayımı :\n",
        "# H0: Normal dağılım varsayımı sağlanmaktadır.\n",
        "# H1: Normal dağılım varsayımı sağlanmamaktadır.\n",
        "# p < 0.05 H0 RED , p > 0.05 H0 REDDEDİLEMEZ\n",
        "# Test sonucuna göre normallik varsayımı kontrol ve test grupları için sağlanıyor mu ? Elde edilen p-value değerlerini yorumlayınız.\n",
        "\n",
        "# Varyans Homojenliği :\n",
        "# H0: Varyanslar homojendir.\n",
        "# H1: Varyanslar homojen Değildir.\n",
        "# p < 0.05 H0 RED , p > 0.05 H0 REDDEDİLEMEZ\n",
        "# Kontrol ve test grubu için varyans homojenliğinin sağlanıp sağlanmadığını Purchase değişkeni üzerinden test ediniz.\n",
        "# Test sonucuna göre normallik varsayımı sağlanıyor mu? Elde edilen p-value değerlerini yorumlayınız."
      ],
      "metadata": {
        "id": "cNichoXSQrzD"
      },
      "execution_count": null,
      "outputs": []
    },
    {
      "cell_type": "code",
      "source": [
        "test_stat, pvalue = shapiro(df['Purchase'])\n",
        "print('Test Stat = %.4f, p-value = %.4f' % (test_stat, pvalue))"
      ],
      "metadata": {
        "colab": {
          "base_uri": "https://localhost:8080/"
        },
        "id": "kVaLhghJQr2d",
        "outputId": "c9c0b3e4-9cec-42e1-bcf9-524e39329096"
      },
      "execution_count": null,
      "outputs": [
        {
          "output_type": "stream",
          "name": "stdout",
          "text": [
            "Test Stat = 0.9773, p-value = 0.5891\n"
          ]
        }
      ]
    },
    {
      "cell_type": "code",
      "source": [
        "test_stat, pvalue = shapiro(df['Purchase_2'])\n",
        "print('Test Stat = %.4f, p-value = %.4f' % (test_stat, pvalue))"
      ],
      "metadata": {
        "colab": {
          "base_uri": "https://localhost:8080/"
        },
        "id": "oCSEYQHYa_RJ",
        "outputId": "00bfe61a-919a-4769-ccc0-34095f29c0a8"
      },
      "execution_count": null,
      "outputs": [
        {
          "output_type": "stream",
          "name": "stdout",
          "text": [
            "Test Stat = 0.9589, p-value = 0.1541\n"
          ]
        }
      ]
    },
    {
      "cell_type": "code",
      "source": [
        "# p > 0.05 HO REDDEDİLEMEZ. Dağılımlar Normaldir."
      ],
      "metadata": {
        "id": "fZ_zlzmtbCTW"
      },
      "execution_count": null,
      "outputs": []
    },
    {
      "cell_type": "code",
      "source": [
        "test_stat, pvalue = levene(df['Purchase'],\n",
        "                           df['Purchase_2'])\n",
        "print('Test Stat = %.4f, p-value = %.4f' % (test_stat, pvalue))"
      ],
      "metadata": {
        "colab": {
          "base_uri": "https://localhost:8080/"
        },
        "id": "QtLpBVkvbdik",
        "outputId": "eea14edc-50ed-4ed7-a546-6633e1354919"
      },
      "execution_count": null,
      "outputs": [
        {
          "output_type": "stream",
          "name": "stdout",
          "text": [
            "Test Stat = 2.6393, p-value = 0.1083\n"
          ]
        }
      ]
    },
    {
      "cell_type": "code",
      "source": [
        "# p > 0.05 HO REDDEDİLEMEZ. Varyanslar homojendir."
      ],
      "metadata": {
        "id": "X7Gi3x4gbgVE"
      },
      "execution_count": null,
      "outputs": []
    },
    {
      "cell_type": "code",
      "source": [
        "# Adım 2: Normallik Varsayımı ve Varyans Homojenliği sonuçlarına göre uygun testi seçiniz."
      ],
      "metadata": {
        "id": "pHozgeicQr6j"
      },
      "execution_count": null,
      "outputs": []
    },
    {
      "cell_type": "code",
      "source": [
        "test_stat, pvalue = ttest_ind(df['Purchase'],\n",
        "                              df['Purchase_2'],\n",
        "                              equal_var=True) # Normal dağılım fakat homojen değilse 'False' girilir.\n",
        "\n",
        "print('Test Stat = %.4f, p-value = %.4f' % (test_stat, pvalue))"
      ],
      "metadata": {
        "colab": {
          "base_uri": "https://localhost:8080/"
        },
        "id": "RtR6Vym-Qr-C",
        "outputId": "a83c00e8-8c4d-4602-af17-100a5a2d6474"
      },
      "execution_count": null,
      "outputs": [
        {
          "output_type": "stream",
          "name": "stdout",
          "text": [
            "Test Stat = -0.9416, p-value = 0.3493\n"
          ]
        }
      ]
    },
    {
      "cell_type": "code",
      "source": [
        "# Adım 3: Test sonucunda elde edilen p_value değerini göz önünde bulundurarak kontrol ve test grubu satın alma ortalamaları arasında istatistiki\n",
        "# olarak anlamlı bir fark olup olmadığını yorumlayınız."
      ],
      "metadata": {
        "id": "IyCxwCo5QsB9"
      },
      "execution_count": null,
      "outputs": []
    },
    {
      "cell_type": "code",
      "source": [
        "# p > 0.05 HO REDDEDİLEMEZ. Kontrol ve test grubu satın alma ortalamaları arasında istatistiki olarak anlamlı bir fark yoktur."
      ],
      "metadata": {
        "id": "CHGPefI9RFTn"
      },
      "execution_count": null,
      "outputs": []
    },
    {
      "cell_type": "markdown",
      "source": [
        "*Görev 4: Sonuçların Analizi*"
      ],
      "metadata": {
        "id": "esitD26NRHbg"
      }
    },
    {
      "cell_type": "code",
      "source": [
        "# Adım 1: Hangi testi kullandınız, sebeplerini belirtiniz."
      ],
      "metadata": {
        "id": "ViW4pf37RFYG"
      },
      "execution_count": null,
      "outputs": []
    },
    {
      "cell_type": "code",
      "source": [
        "# Normal dağılım ve varyans homojenliği testlerine uyduğu için parametrik test olan \"bağımsız iki örneklem t testi\" ni kullandım."
      ],
      "metadata": {
        "id": "szTwZuYkRFcO"
      },
      "execution_count": null,
      "outputs": []
    },
    {
      "cell_type": "code",
      "source": [
        "# Adım 2: Elde ettiğiniz test sonuçlarına göre müşteriye tavsiyede bulununuz."
      ],
      "metadata": {
        "id": "AMD93rNvRFgP"
      },
      "execution_count": null,
      "outputs": []
    },
    {
      "cell_type": "code",
      "source": [
        "df[['Purchase', 'Purchase_2']].mean()"
      ],
      "metadata": {
        "colab": {
          "base_uri": "https://localhost:8080/"
        },
        "id": "eD0DTSC6RFkF",
        "outputId": "8aec5b77-e92d-4bfa-ac0d-7de5e60cb4da"
      },
      "execution_count": null,
      "outputs": [
        {
          "output_type": "execute_result",
          "data": {
            "text/plain": [
              "Purchase     550.89406\n",
              "Purchase_2   582.10610\n",
              "dtype: float64"
            ]
          },
          "metadata": {},
          "execution_count": 49
        }
      ]
    },
    {
      "cell_type": "code",
      "source": [
        "# İstatiski olarak anlamlı bir fark yoktur fakat, bir tercih yapılacaksa \"Average Bidding\" metodu kullanılması tavsiye edilir."
      ],
      "metadata": {
        "id": "LL6Va8KZchhs"
      },
      "execution_count": null,
      "outputs": []
    }
  ]
}